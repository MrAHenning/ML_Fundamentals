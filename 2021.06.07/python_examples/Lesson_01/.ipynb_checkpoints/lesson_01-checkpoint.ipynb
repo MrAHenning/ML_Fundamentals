version https://git-lfs.github.com/spec/v1
oid sha256:780cc308aae132e4e5c567fb9d375055832378bd3b39f0329d4f1ea23e6a588f
size 18405483
